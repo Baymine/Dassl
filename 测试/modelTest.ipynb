{
 "cells": [
  {
   "cell_type": "code",
   "execution_count": 2,
   "metadata": {},
   "outputs": [],
   "source": [
    "import torch\n",
    "import torch.nn as nn\n",
    "import numpy as np\n",
    "from sklearn.manifold import TSNE\n",
    "import matplotlib.pyplot as plt"
   ]
  },
  {
   "cell_type": "code",
   "execution_count": 3,
   "metadata": {},
   "outputs": [],
   "source": [
    "class DistributionUncertainty(nn.Module):\n",
    "    \"\"\"\n",
    "    Distribution Uncertainty Module\n",
    "        Args:\n",
    "        p   (float): probabilty of foward distribution uncertainty module, p in [0,1].\n",
    "\n",
    "    \"\"\"\n",
    "\n",
    "    def __init__(self, p=0.5, eps=1e-6):\n",
    "        super(DistributionUncertainty, self).__init__()\n",
    "        self.eps = eps\n",
    "        self.p = p\n",
    "        self.factor = 1.0\n",
    "\n",
    "    # 重参数化\n",
    "    def _reparameterize(self, mu, std):\n",
    "        epsilon = torch.randn_like(std) * self.factor\n",
    "        return mu + epsilon * std\n",
    "\n",
    "    def sqrtvar(self, x):\n",
    "        t = (x.var(dim=0, keepdim=True) + self.eps).sqrt()  # 注意这里是求平方根\n",
    "        t = t.repeat(x.shape[0], 1)  # ？？？？\n",
    "        return t\n",
    "\n",
    "    def forward(self, x):\n",
    "        # if (not self.training) or (np.random.random()) > self.p:\n",
    "        #     return x\n",
    "\n",
    "        mean = x.mean(dim=[2, 3], keepdim=False)\n",
    "        std = (x.var(dim=[2, 3], keepdim=False) + self.eps).sqrt()\n",
    "\n",
    "        sqrtvar_mu = self.sqrtvar(mean)\n",
    "        sqrtvar_std = self.sqrtvar(std)\n",
    "\n",
    "        beta = self._reparameterize(mean, sqrtvar_mu)\n",
    "        gamma = self._reparameterize(std, sqrtvar_std)\n",
    "\n",
    "        x = (x - mean.reshape(x.shape[0], x.shape[1], 1, 1)) / std.reshape(x.shape[0], x.shape[1], 1, 1)\n",
    "        x = x * gamma.reshape(x.shape[0], x.shape[1], 1, 1) + beta.reshape(x.shape[0], x.shape[1], 1, 1)\n",
    "\n",
    "        return x\n"
   ]
  },
  {
   "cell_type": "code",
   "execution_count": 4,
   "metadata": {},
   "outputs": [
    {
     "name": "stdout",
     "output_type": "stream",
     "text": [
      "tensor(0.5875, dtype=torch.float64)   tensor(0.4964, dtype=torch.float64)\n"
     ]
    }
   ],
   "source": [
    "data_batch = torch.randn((32, 3, 64, 64))\n",
    "data_batch = torch.cat((torch.from_numpy(np.random.normal(1,3, data_batch.shape)) , data_batch), dim=0) \n",
    "# data_batch = data_batch.mean((2,3))\n",
    "uncertainty = DistributionUncertainty()\n",
    "perturb_data = uncertainty(data_batch)\n",
    "data_batch = data_batch.view((data_batch.shape[0], -1))\n",
    "perturb_data = perturb_data.view(perturb_data.shape[0], -1)\n",
    "\n",
    "print(perturb_data.mean(), \" \", data_batch.mean())\n",
    "\n",
    "X_origin = (TSNE(n_components=2, learning_rate='auto', init='random').fit_transform(data_batch.numpy())).T\n",
    "X_perturb = (TSNE(n_components=2, learning_rate='auto', init='random').fit_transform(perturb_data.numpy())).T"
   ]
  },
  {
   "cell_type": "code",
   "execution_count": 5,
   "metadata": {},
   "outputs": [
    {
     "data": {
      "image/png": "[encoded data removed]",
      "text/plain": [
       "<Figure size 432x288 with 1 Axes>"
      ]
     },
     "metadata": {
      "needs_background": "light"
     },
     "output_type": "display_data"
    }
   ],
   "source": [
    "plt.scatter(X_perturb[0], X_perturb[1], label=\"perturb\")\n",
    "plt.scatter(X_origin[0], X_origin[1], label=\"oringin\")\n",
    "plt.legend()\n",
    "num = 1\n",
    "plt.savefig(f\"./{num}.png\")"
   ]
  },
  {
   "cell_type": "code",
   "execution_count": 79,
   "metadata": {},
   "outputs": [
    {
     "name": "stdout",
     "output_type": "stream",
     "text": [
      "Getting pacs datasets\n"
     ]
    },
    {
     "ename": "PermissionError",
     "evalue": "[Errno 13] Permission denied: 'E:/Anaconda/Library/home/lw/lw/data//pacs/art_painting/dog'",
     "output_type": "error",
     "traceback": [
      "\u001b[1;31m---------------------------------------------------------------------------\u001b[0m",
      "\u001b[1;31mPermissionError\u001b[0m                           Traceback (most recent call last)",
      "\u001b[1;32m~\\AppData\\Local\\Temp/ipykernel_88596/1726768909.py\u001b[0m in \u001b[0;36m<module>\u001b[1;34m\u001b[0m\n\u001b[0;32m      1\u001b[0m \u001b[1;32mfrom\u001b[0m \u001b[0mutils\u001b[0m\u001b[1;33m.\u001b[0m\u001b[0mPACS\u001b[0m \u001b[1;32mimport\u001b[0m \u001b[0mPACS\u001b[0m\u001b[1;33m\u001b[0m\u001b[1;33m\u001b[0m\u001b[0m\n\u001b[1;32m----> 2\u001b[1;33m \u001b[0mdataloader\u001b[0m \u001b[1;33m=\u001b[0m \u001b[0mPACS\u001b[0m\u001b[1;33m(\u001b[0m\u001b[1;34m\"E:/Anaconda/Library/home/lw/lw/data/\"\u001b[0m\u001b[1;33m,\u001b[0m \u001b[1;34m\"pacs\"\u001b[0m\u001b[1;33m)\u001b[0m\u001b[1;33m\u001b[0m\u001b[1;33m\u001b[0m\u001b[0m\n\u001b[0m",
      "\u001b[1;32me:\\Dassl2\\测试\\utils\\PACS.py\u001b[0m in \u001b[0;36m__init__\u001b[1;34m(self, root_path, domain, train, transform, target_transform)\u001b[0m\n\u001b[0;32m     47\u001b[0m                 \u001b[0mimages_list\u001b[0m \u001b[1;33m=\u001b[0m \u001b[0mos\u001b[0m\u001b[1;33m.\u001b[0m\u001b[0mlistdir\u001b[0m\u001b[1;33m(\u001b[0m\u001b[1;34mf\"{self.root}/{label_name}\"\u001b[0m\u001b[1;33m)\u001b[0m\u001b[1;33m\u001b[0m\u001b[1;33m\u001b[0m\u001b[0m\n\u001b[0;32m     48\u001b[0m                 \u001b[1;32mfor\u001b[0m \u001b[0mimg_name\u001b[0m \u001b[1;32min\u001b[0m \u001b[0mimages_list\u001b[0m\u001b[1;33m:\u001b[0m\u001b[1;33m\u001b[0m\u001b[1;33m\u001b[0m\u001b[0m\n\u001b[1;32m---> 49\u001b[1;33m \u001b[1;33m\u001b[0m\u001b[0m\n\u001b[0m\u001b[0;32m     50\u001b[0m                     \u001b[1;32massert\u001b[0m \u001b[0mos\u001b[0m\u001b[1;33m.\u001b[0m\u001b[0mpath\u001b[0m\u001b[1;33m.\u001b[0m\u001b[0misfile\u001b[0m\u001b[1;33m(\u001b[0m\u001b[1;33m{\u001b[0m\u001b[0mself\u001b[0m\u001b[1;33m.\u001b[0m\u001b[0mroot\u001b[0m\u001b[1;33m}\u001b[0m\u001b[1;33m/\u001b[0m\u001b[1;33m{\u001b[0m\u001b[0mlabel_name\u001b[0m\u001b[1;33m}\u001b[0m\u001b[1;33m/\u001b[0m\u001b[1;33m{\u001b[0m\u001b[0mimg_name\u001b[0m\u001b[1;33m}\u001b[0m\u001b[1;33m)\u001b[0m\u001b[1;33m\u001b[0m\u001b[1;33m\u001b[0m\u001b[0m\n\u001b[0;32m     51\u001b[0m \u001b[1;33m\u001b[0m\u001b[0m\n",
      "\u001b[1;32mE:\\Anaconda\\lib\\site-packages\\PIL\\Image.py\u001b[0m in \u001b[0;36mopen\u001b[1;34m(fp, mode, formats)\u001b[0m\n\u001b[0;32m   2973\u001b[0m \u001b[1;33m\u001b[0m\u001b[0m\n\u001b[0;32m   2974\u001b[0m     \u001b[1;32mif\u001b[0m \u001b[0mfilename\u001b[0m\u001b[1;33m:\u001b[0m\u001b[1;33m\u001b[0m\u001b[1;33m\u001b[0m\u001b[0m\n\u001b[1;32m-> 2975\u001b[1;33m         \u001b[0mfp\u001b[0m \u001b[1;33m=\u001b[0m \u001b[0mbuiltins\u001b[0m\u001b[1;33m.\u001b[0m\u001b[0mopen\u001b[0m\u001b[1;33m(\u001b[0m\u001b[0mfilename\u001b[0m\u001b[1;33m,\u001b[0m \u001b[1;34m\"rb\"\u001b[0m\u001b[1;33m)\u001b[0m\u001b[1;33m\u001b[0m\u001b[1;33m\u001b[0m\u001b[0m\n\u001b[0m\u001b[0;32m   2976\u001b[0m         \u001b[0mexclusive_fp\u001b[0m \u001b[1;33m=\u001b[0m \u001b[1;32mTrue\u001b[0m\u001b[1;33m\u001b[0m\u001b[1;33m\u001b[0m\u001b[0m\n\u001b[0;32m   2977\u001b[0m \u001b[1;33m\u001b[0m\u001b[0m\n",
      "\u001b[1;31mPermissionError\u001b[0m: [Errno 13] Permission denied: 'E:/Anaconda/Library/home/lw/lw/data//pacs/art_painting/dog'"
     ]
    }
   ],
   "source": [
    "from utils.PACS import PACS\n",
    "dataloader = PACS(\"E:/Anaconda/Library/home/lw/lw/data/\", \"pacs\")"
   ]
  },
  {
   "cell_type": "markdown",
   "metadata": {},
   "source": [
    "探究进行扰动前后的特征统计量的分布关系"
   ]
  }
 ],
 "metadata": {
  "interpreter": {
   "hash": "96eb50e1d44aed467dc8f759cb08c32fbfa9babcf79c554e2d0e5feb04653a10"
  },
  "kernelspec": {
   "display_name": "Python 3.8.12 ('base')",
   "language": "python",
   "name": "python3"
  },
  "language_info": {
   "codemirror_mode": {
    "name": "ipython",
    "version": 3
   },
   "file_extension": ".py",
   "mimetype": "text/x-python",
   "name": "python",
   "nbconvert_exporter": "python",
   "pygments_lexer": "ipython3",
   "version": "3.8.12"
  },
  "orig_nbformat": 4
 },
 "nbformat": 4,
 "nbformat_minor": 2
}
